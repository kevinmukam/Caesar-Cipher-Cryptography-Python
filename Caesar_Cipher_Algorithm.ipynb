{
  "nbformat": 4,
  "nbformat_minor": 0,
  "metadata": {
    "colab": {
      "name": "Caesar Cipher Algorithm.ipynb",
      "provenance": [],
      "collapsed_sections": [],
      "authorship_tag": "ABX9TyNbflnceFrwc/CiFlCg8s/3",
      "include_colab_link": true
    },
    "kernelspec": {
      "name": "python3",
      "display_name": "Python 3"
    }
  },
  "cells": [
    {
      "cell_type": "markdown",
      "metadata": {
        "id": "view-in-github",
        "colab_type": "text"
      },
      "source": [
        "<a href=\"https://colab.research.google.com/github/kevinmukam/Caesar-Cipher-Cryptography-Python/blob/main/Caesar_Cipher_Algorithm.ipynb\" target=\"_parent\"><img src=\"https://colab.research.google.com/assets/colab-badge.svg\" alt=\"Open In Colab\"/></a>"
      ]
    },
    {
      "cell_type": "code",
      "metadata": {
        "id": "PyUm-HWRe9CF"
      },
      "source": [
        "#Network Security\n",
        "#Caesar Encryption/Decryption Algorithm\n",
        "#February 7, 2021\n",
        "\n",
        "\n",
        "\n",
        "#Function for the encryption algorithm\n",
        "def caesar_str_enc(enc_string, enc_shift):\n",
        "  cipher = \"\"\n",
        "\n",
        "  for letter in enc_string:\n",
        "    if ord(letter) == 32:       #Verifying if the character is a space or not \n",
        "      cipher = cipher + \" \"\n",
        "    else:                       #If it's not a space, perform the Caesar algorithm\n",
        "      temp = ord(letter) - 65   #Finding the ASCII code of the letter in the alphabet range 0-26\n",
        "      update = (temp + enc_shift)%26  #Performing the Caesar algorithm with modulo 26 because the alphabet is wrapped around\n",
        "      new_value = update + 65  #Returning to the normal ASCII grid with the updated value\n",
        "      cipher = cipher + chr(new_value)  #Adding the new value to the string to form the output\n",
        "  return cipher\n",
        "\n",
        "\n",
        "#Function for the decryption algorithm\n",
        "def caesar_str_dec(decr_string, decr_shift):\n",
        "  original = \"\"\n",
        "\n",
        "  for lett in decr_string:\n",
        "    if ord(lett) == 32:\n",
        "      original = original + \" \"\n",
        "    else:\n",
        "      temporary = ((ord(lett) - 65) - decr_shift)%26 \n",
        "      new = temporary + 65 \n",
        "      original = original + chr(new) \n",
        "  return original\n",
        "\n",
        "\n",
        "#Main code with testing\n",
        "if __name__ == \"__main__\":  \n",
        "  mytest = \"HAPPY\"\n",
        "  secondtest = \"A TEST SENTENCE\"\n",
        "\n",
        "  \"\"\"\n",
        "  print (\"The text is \", mytest)\n",
        "  mytest_enc = caesar_str_enc(mytest, 3)\n",
        "  print(\"The encrypted text is \", mytest_enc)\n",
        "  mytest_orig = caesar_str_dec(mytest_enc, 3)\n",
        "  print(\"The decrypted text is \", mytest_orig)\"\"\"\n",
        "\n",
        "  \n",
        "  print (\"The text is \", secondtest)\n",
        "  secondtest_enc = caesar_str_enc(secondtest, 2)\n",
        "  print(\"The encrypted text is \", secondtest_enc)\n",
        "  secondtest_orig = caesar_str_dec(secondtest_enc, 2)\n",
        "  print(\"The decrypted text is \", secondtest_orig) \n",
        "\n",
        "  "
      ],
      "execution_count": null,
      "outputs": []
    }
  ]
}