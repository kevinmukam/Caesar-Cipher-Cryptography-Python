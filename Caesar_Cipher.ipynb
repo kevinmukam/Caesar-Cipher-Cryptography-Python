{
  "nbformat": 4,
  "nbformat_minor": 0,
  "metadata": {
    "colab": {
      "name": "Caesar Cipher.ipynb",
      "provenance": [],
      "collapsed_sections": [],
      "authorship_tag": "ABX9TyPtA2wUtWOMb/NX4WfV5t3J",
      "include_colab_link": true
    },
    "kernelspec": {
      "name": "python3",
      "display_name": "Python 3"
    }
  },
  "cells": [
    {
      "cell_type": "markdown",
      "metadata": {
        "id": "view-in-github",
        "colab_type": "text"
      },
      "source": [
        "<a href=\"https://colab.research.google.com/github/kevinmukam/Caesar-Cipher-Cryptography-Python/blob/main/Caesar_Cipher.ipynb\" target=\"_parent\"><img src=\"https://colab.research.google.com/assets/colab-badge.svg\" alt=\"Open In Colab\"/></a>"
      ]
    },
    {
      "cell_type": "code",
      "metadata": {
        "colab": {
          "base_uri": "https://localhost:8080/"
        },
        "id": "4c7i-7K_ZJqJ",
        "outputId": "f92bed86-73be-4e5f-8f0c-22226a06f347"
      },
      "source": [
        "print (\"Hi\")\n",
        "print (\"My name is Kevin\")"
      ],
      "execution_count": null,
      "outputs": [
        {
          "output_type": "stream",
          "text": [
            "Hi\n",
            "My name is Kevin\n"
          ],
          "name": "stdout"
        }
      ]
    },
    {
      "cell_type": "code",
      "metadata": {
        "colab": {
          "base_uri": "https://localhost:8080/"
        },
        "id": "BCe4Jfe1aBBM",
        "outputId": "23db72aa-6816-45b1-a157-c89201638f8e"
      },
      "source": [
        "x = [2, 4.5, \"Kevin\", 2]\n",
        "print(x)\n"
      ],
      "execution_count": null,
      "outputs": [
        {
          "output_type": "stream",
          "text": [
            "[2, 4.5, 'Kevin', 2]\n"
          ],
          "name": "stdout"
        }
      ]
    },
    {
      "cell_type": "code",
      "metadata": {
        "colab": {
          "base_uri": "https://localhost:8080/"
        },
        "id": "gCUxySERaGzw",
        "outputId": "82897035-0f6b-4ef3-b8df-681996619272"
      },
      "source": [
        "print (\"The list is \", x)"
      ],
      "execution_count": null,
      "outputs": [
        {
          "output_type": "stream",
          "text": [
            "The list is  [2, 4.5, 'Kevin', 2]\n"
          ],
          "name": "stdout"
        }
      ]
    },
    {
      "cell_type": "code",
      "metadata": {
        "colab": {
          "base_uri": "https://localhost:8080/"
        },
        "id": "2kciJx8waKJI",
        "outputId": "86394a6d-23da-471b-96e5-be51ca2cb208"
      },
      "source": [
        "print (\"The second element is \", x[1])"
      ],
      "execution_count": null,
      "outputs": [
        {
          "output_type": "stream",
          "text": [
            "The second element is  4.5\n"
          ],
          "name": "stdout"
        }
      ]
    },
    {
      "cell_type": "code",
      "metadata": {
        "colab": {
          "base_uri": "https://localhost:8080/"
        },
        "id": "A5DysltHaQgA",
        "outputId": "9eee3d9d-b0fb-41d4-9b22-e833acbf3141"
      },
      "source": [
        "print(len(x))"
      ],
      "execution_count": null,
      "outputs": [
        {
          "output_type": "stream",
          "text": [
            "4\n"
          ],
          "name": "stdout"
        }
      ]
    },
    {
      "cell_type": "code",
      "metadata": {
        "colab": {
          "base_uri": "https://localhost:8080/"
        },
        "id": "gC0PqMP1aqY2",
        "outputId": "4d618c1a-cb3c-424d-bd7f-f196f2751aee"
      },
      "source": [
        "print(x[-3])"
      ],
      "execution_count": null,
      "outputs": [
        {
          "output_type": "stream",
          "text": [
            "4.5\n"
          ],
          "name": "stdout"
        }
      ]
    },
    {
      "cell_type": "code",
      "metadata": {
        "id": "0kBCsUKbbMB-"
      },
      "source": [
        "x.append(133)"
      ],
      "execution_count": null,
      "outputs": []
    },
    {
      "cell_type": "code",
      "metadata": {
        "colab": {
          "base_uri": "https://localhost:8080/"
        },
        "id": "wGBsWBavbdxE",
        "outputId": "1e99fad3-91d2-406c-b8a8-1d53c32d089e"
      },
      "source": [
        "print(x)"
      ],
      "execution_count": null,
      "outputs": [
        {
          "output_type": "stream",
          "text": [
            "[2, 4.5, 'Kevin', 2, 133]\n"
          ],
          "name": "stdout"
        }
      ]
    },
    {
      "cell_type": "code",
      "metadata": {
        "colab": {
          "base_uri": "https://localhost:8080/"
        },
        "id": "xi8q8lCCbef0",
        "outputId": "cf75363a-3229-4fc0-8d84-b08be98ab365"
      },
      "source": [
        "print(x)"
      ],
      "execution_count": null,
      "outputs": [
        {
          "output_type": "stream",
          "text": [
            "[2, 4.5, 'Kevin', 2, 133]\n"
          ],
          "name": "stdout"
        }
      ]
    },
    {
      "cell_type": "code",
      "metadata": {
        "id": "kE0mSs7jcCsS"
      },
      "source": [
        "a = \"my string\"\n",
        "b = \"other string\""
      ],
      "execution_count": null,
      "outputs": []
    },
    {
      "cell_type": "code",
      "metadata": {
        "id": "MN_tOUircNDu"
      },
      "source": [
        "c = \"42\""
      ],
      "execution_count": null,
      "outputs": []
    },
    {
      "cell_type": "code",
      "metadata": {
        "colab": {
          "base_uri": "https://localhost:8080/"
        },
        "id": "OQlat6b6cULq",
        "outputId": "aa82b22d-d5e8-48e1-d172-02549e0559db"
      },
      "source": [
        "c.isdigit()\n"
      ],
      "execution_count": null,
      "outputs": [
        {
          "output_type": "execute_result",
          "data": {
            "text/plain": [
              "True"
            ]
          },
          "metadata": {
            "tags": []
          },
          "execution_count": 16
        }
      ]
    },
    {
      "cell_type": "code",
      "metadata": {
        "id": "mc8aEhhqccvd"
      },
      "source": [
        "y = {}"
      ],
      "execution_count": null,
      "outputs": []
    },
    {
      "cell_type": "code",
      "metadata": {
        "id": "6hEtxmQMc5hc"
      },
      "source": [
        "y[0] = 13\n",
        "y[4] = 45"
      ],
      "execution_count": null,
      "outputs": []
    },
    {
      "cell_type": "code",
      "metadata": {
        "colab": {
          "base_uri": "https://localhost:8080/"
        },
        "id": "ijGwWaWyc_xF",
        "outputId": "c9114d0c-9807-43d9-ce12-83d006953712"
      },
      "source": [
        "print(y)\n"
      ],
      "execution_count": null,
      "outputs": [
        {
          "output_type": "stream",
          "text": [
            "{0: 13, 4: 45}\n"
          ],
          "name": "stdout"
        }
      ]
    },
    {
      "cell_type": "code",
      "metadata": {
        "id": "Bmgj0Qg4dBEN"
      },
      "source": [
        "y[1] = [\"Kevin\", \"Mukam\"]"
      ],
      "execution_count": null,
      "outputs": []
    },
    {
      "cell_type": "code",
      "metadata": {
        "colab": {
          "base_uri": "https://localhost:8080/"
        },
        "id": "RDTv25gmdFnj",
        "outputId": "5c4a891e-395b-44d8-a755-f157fc2eca9e"
      },
      "source": [
        "print(y)"
      ],
      "execution_count": null,
      "outputs": [
        {
          "output_type": "stream",
          "text": [
            "{0: 13, 4: 45, 1: ['Kevin', 'Mukam']}\n"
          ],
          "name": "stdout"
        }
      ]
    },
    {
      "cell_type": "code",
      "metadata": {
        "colab": {
          "base_uri": "https://localhost:8080/"
        },
        "id": "DSQO7Ri7dGkc",
        "outputId": "51129f1a-c850-4c3a-f91e-9cba282c80f0"
      },
      "source": [
        "print(y[0])"
      ],
      "execution_count": null,
      "outputs": [
        {
          "output_type": "stream",
          "text": [
            "13\n"
          ],
          "name": "stdout"
        }
      ]
    },
    {
      "cell_type": "code",
      "metadata": {
        "id": "OYO06O_bdK6n"
      },
      "source": [
        "y[\"First Key\"] = \"Keyyy\""
      ],
      "execution_count": null,
      "outputs": []
    },
    {
      "cell_type": "code",
      "metadata": {
        "colab": {
          "base_uri": "https://localhost:8080/"
        },
        "id": "rV-bO7afdeHg",
        "outputId": "0fa55ca2-f3e6-476e-cf6a-d87674beec70"
      },
      "source": [
        "print(y)"
      ],
      "execution_count": null,
      "outputs": [
        {
          "output_type": "stream",
          "text": [
            "{0: 13, 4: 45, 1: ['Kevin', 'Mukam'], 'First Key': 'Keyyy'}\n"
          ],
          "name": "stdout"
        }
      ]
    },
    {
      "cell_type": "code",
      "metadata": {
        "colab": {
          "base_uri": "https://localhost:8080/"
        },
        "id": "6Hf3AMhhdfZx",
        "outputId": "51f7d70e-9468-4d83-dbd7-12dbc0e53014"
      },
      "source": [
        "clear\n"
      ],
      "execution_count": null,
      "outputs": [
        {
          "output_type": "stream",
          "text": [
            "\u001b[H\u001b[2J"
          ],
          "name": "stdout"
        }
      ]
    },
    {
      "cell_type": "code",
      "metadata": {
        "id": "IEJgLfn_erPc"
      },
      "source": [
        "enc = {\"a\": \"D\", \"b\": \"E\"}"
      ],
      "execution_count": null,
      "outputs": []
    },
    {
      "cell_type": "code",
      "metadata": {
        "colab": {
          "base_uri": "https://localhost:8080/"
        },
        "id": "RzphSAq2e02p",
        "outputId": "a5d82b24-00ac-4214-fa60-7374521743c6"
      },
      "source": [
        "print (enc)"
      ],
      "execution_count": null,
      "outputs": [
        {
          "output_type": "stream",
          "text": [
            "{'a': 'D', 'b': 'E'}\n"
          ],
          "name": "stdout"
        }
      ]
    },
    {
      "cell_type": "code",
      "metadata": {
        "id": "2gneFkZAe7JY"
      },
      "source": [
        "enc[\"c\"] = \"F\"\n",
        "enc[\"d\"] = \"G\""
      ],
      "execution_count": null,
      "outputs": []
    },
    {
      "cell_type": "code",
      "metadata": {
        "colab": {
          "base_uri": "https://localhost:8080/"
        },
        "id": "seCvrR4sfhr9",
        "outputId": "1336aed3-dd5b-4870-820e-c7a6c080d3b9"
      },
      "source": [
        "msg = \"dcadca\"\n",
        "decipher = \"\"\n",
        "for lett in msg:\n",
        "  code = enc[lett]\n",
        "  decipher = decipher + code\n",
        "\n",
        "print (decipher)"
      ],
      "execution_count": null,
      "outputs": [
        {
          "output_type": "stream",
          "text": [
            "GFDGFD\n"
          ],
          "name": "stdout"
        }
      ]
    },
    {
      "cell_type": "code",
      "metadata": {
        "colab": {
          "base_uri": "https://localhost:8080/"
        },
        "id": "w1HJxmoFf1GX",
        "outputId": "d64f3d52-2f13-48a9-afe3-b59a1f704cd2"
      },
      "source": [
        "ord(\"A\")"
      ],
      "execution_count": null,
      "outputs": [
        {
          "output_type": "execute_result",
          "data": {
            "text/plain": [
              "65"
            ]
          },
          "metadata": {
            "tags": []
          },
          "execution_count": 37
        }
      ]
    },
    {
      "cell_type": "code",
      "metadata": {
        "colab": {
          "base_uri": "https://localhost:8080/"
        },
        "id": "sQn0kQqahf7G",
        "outputId": "aaad08ac-5748-4cde-a587-a6e8b46bb0d3"
      },
      "source": [
        "ord(\"B\") #It gives you the ASCII value."
      ],
      "execution_count": null,
      "outputs": [
        {
          "output_type": "execute_result",
          "data": {
            "text/plain": [
              "66"
            ]
          },
          "metadata": {
            "tags": []
          },
          "execution_count": 38
        }
      ]
    },
    {
      "cell_type": "code",
      "metadata": {
        "colab": {
          "base_uri": "https://localhost:8080/"
        },
        "id": "1lO1OymQhhmm",
        "outputId": "fda66a22-17a4-496a-e490-5edbe85c17ca"
      },
      "source": [
        "ord(\"A\") - 25\n",
        "ord(\"B\") - 25"
      ],
      "execution_count": null,
      "outputs": [
        {
          "output_type": "execute_result",
          "data": {
            "text/plain": [
              "41"
            ]
          },
          "metadata": {
            "tags": []
          },
          "execution_count": 39
        }
      ]
    },
    {
      "cell_type": "code",
      "metadata": {
        "colab": {
          "base_uri": "https://localhost:8080/"
        },
        "id": "LVZh3S7Mhlsv",
        "outputId": "bb6531d1-e015-42de-d5d1-63f894133f75"
      },
      "source": [
        "print(ord(\"A\") - 25)"
      ],
      "execution_count": null,
      "outputs": [
        {
          "output_type": "stream",
          "text": [
            "40\n"
          ],
          "name": "stdout"
        }
      ]
    },
    {
      "cell_type": "code",
      "metadata": {
        "colab": {
          "base_uri": "https://localhost:8080/"
        },
        "id": "2DRw0FJKhpMA",
        "outputId": "2109a757-9496-4b94-ea84-8ae67331f676"
      },
      "source": [
        "x = \"B\"\n",
        "ind_x = ord(x) - 65\n",
        "ind_enc_x = (ind_x + 3)%26\n",
        "x_enc = chr(ind_enc_x + 65) #it does the inverse of ord. You give it an ASCII code and it gives you the ASCII value. \n",
        "print (x_enc)"
      ],
      "execution_count": null,
      "outputs": [
        {
          "output_type": "stream",
          "text": [
            "E\n"
          ],
          "name": "stdout"
        }
      ]
    },
    {
      "cell_type": "code",
      "metadata": {
        "colab": {
          "base_uri": "https://localhost:8080/"
        },
        "id": "RGBMLrvUii8b",
        "outputId": "cacf51b6-2ba3-41d0-862f-21aef51ac0dc"
      },
      "source": [
        "def prodplus3(x,y):\n",
        "  z = (x*y)+3\n",
        "  return z\n",
        "\n",
        "prodplus3(3,4)"
      ],
      "execution_count": null,
      "outputs": [
        {
          "output_type": "execute_result",
          "data": {
            "text/plain": [
              "15"
            ]
          },
          "metadata": {
            "tags": []
          },
          "execution_count": 42
        }
      ]
    },
    {
      "cell_type": "code",
      "metadata": {
        "colab": {
          "base_uri": "https://localhost:8080/"
        },
        "id": "9Q00mPyDj4mE",
        "outputId": "894b292f-3e01-4b60-944e-317b7fc6c117"
      },
      "source": [
        "#ENPM693 - Network Security\n",
        "#Homework 1 - Caesar Encryption/Decryption Algorithm\n",
        "#February 7, 2021\n",
        "\n",
        "UID = 116430197\n",
        "Last_Name = \"Mukam\"\n",
        "First_Name = \"Kevin\"\n",
        "\n",
        "\n",
        "#Function for the encryption algorithm\n",
        "def caesar_str_enc(enc_string, enc_shift):\n",
        "  cipher = \"\"\n",
        "\n",
        "  for letter in enc_string:\n",
        "    if ord(letter) == 32:       #Verifying if the character is a space or not \n",
        "      cipher = cipher + \" \"\n",
        "    else:                       #If it's not a space, perform the Caesar algorithm\n",
        "      temp = ord(letter) - 65   #Finding the ASCII code of the letter in the alphabet range 0-26\n",
        "      update = (temp + enc_shift)%26  #Performing the Caesar algorithm with modulo 26 because the alphabet is wrapped around\n",
        "      new_value = update + 65  #Returning to the normal ASCII grid with the updated value\n",
        "      cipher = cipher + chr(new_value)  #Adding the new value to the string to form the output\n",
        "  return cipher\n",
        "\n",
        "\n",
        "#Function for the decryption algorithm\n",
        "def caesar_str_dec(decr_string, decr_shift):\n",
        "  original = \"\"\n",
        "\n",
        "  for lett in decr_string:\n",
        "    if ord(lett) == 32:\n",
        "      original = original + \" \"\n",
        "    else:\n",
        "      temporary = ((ord(lett) - 65) - decr_shift)%26 \n",
        "      new = temporary + 65 \n",
        "      original = original + chr(new) \n",
        "  return original\n",
        "\n",
        "\n",
        "#Main code with testing\n",
        "if __name__ == \"__main__\":  \n",
        "  mytest = \"HAPPY\"\n",
        "  secondtest = \"A TEST SENTENCE\"\n",
        "\n",
        "  \"\"\"\n",
        "  print (\"The text is \", mytest)\n",
        "  mytest_enc = caesar_str_enc(mytest, 3)\n",
        "  print(\"The encrypted text is \", mytest_enc)\n",
        "  mytest_orig = caesar_str_dec(mytest_enc, 3)\n",
        "  print(\"The decrypted text is \", mytest_orig)\"\"\"\n",
        "\n",
        "  \n",
        "  print (\"The text is \", secondtest)\n",
        "  secondtest_enc = caesar_str_enc(secondtest, 2)\n",
        "  print(\"The encrypted text is \", secondtest_enc)\n",
        "  secondtest_orig = caesar_str_dec(secondtest_enc, 2)\n",
        "  print(\"The decrypted text is \", secondtest_orig) \n",
        "\n",
        "  "
      ],
      "execution_count": null,
      "outputs": [
        {
          "output_type": "stream",
          "text": [
            "The text is  A TEST SENTENCE\n",
            "The encrypted text is  C VGUV UGPVGPEG\n",
            "The decrypted text is  A TEST SENTENCE\n"
          ],
          "name": "stdout"
        }
      ]
    },
    {
      "cell_type": "code",
      "metadata": {
        "id": "5Cynu1RHlX-P"
      },
      "source": [
        ""
      ],
      "execution_count": null,
      "outputs": []
    },
    {
      "cell_type": "code",
      "metadata": {
        "id": "uFJh4lgzOCMx",
        "colab": {
          "base_uri": "https://localhost:8080/"
        },
        "outputId": "0aff7c0d-0e76-458f-8ca0-51842e42885d"
      },
      "source": [
        "s = \"key\"\n",
        "s = s.join(\"a\")\n",
        "print(s)"
      ],
      "execution_count": null,
      "outputs": [
        {
          "output_type": "stream",
          "text": [
            "a\n"
          ],
          "name": "stdout"
        }
      ]
    },
    {
      "cell_type": "code",
      "metadata": {
        "id": "9XhCmVvAlpVA"
      },
      "source": [
        ""
      ],
      "execution_count": null,
      "outputs": []
    }
  ]
}